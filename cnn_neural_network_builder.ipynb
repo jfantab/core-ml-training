{
 "cells": [
  {
   "cell_type": "markdown",
   "id": "2e53d5ec",
   "metadata": {},
   "source": [
    "This notebook uses the `NeuralNetworkBuilder` API from CoreML to manually create a neural network. Only the `convolution` and `fully connected` layers are trainable at the moment."
   ]
  },
  {
   "cell_type": "code",
   "execution_count": 1,
   "id": "e7d6d94a",
   "metadata": {
    "scrolled": true
   },
   "outputs": [
    {
     "name": "stderr",
     "output_type": "stream",
     "text": [
      "XGBoost version 1.7.1 has not been tested with coremltools. You may run into unexpected errors. XGBoost 1.4.2 is the most recent version that has been tested.\n",
      "2023-11-27 14:22:52.659307: I tensorflow/core/platform/cpu_feature_guard.cc:193] This TensorFlow binary is optimized with oneAPI Deep Neural Network Library (oneDNN) to use the following CPU instructions in performance-critical operations:  AVX2 FMA\n",
      "To enable them in other operations, rebuild TensorFlow with the appropriate compiler flags.\n"
     ]
    }
   ],
   "source": [
    "import numpy as np\n",
    "from numpy.random import rand\n",
    "\n",
    "from coremltools.models import datatypes\n",
    "from coremltools.models.neural_network import NeuralNetworkBuilder\n",
    "from coremltools.models.utils import save_spec"
   ]
  },
  {
   "cell_type": "code",
   "execution_count": 34,
   "id": "5f9a1bcb",
   "metadata": {},
   "outputs": [],
   "source": [
    "input_dim = (1, 28, 28)\n",
    "output_dim = (10,)"
   ]
  },
  {
   "cell_type": "code",
   "execution_count": 35,
   "id": "ce868163",
   "metadata": {},
   "outputs": [],
   "source": [
    "# Specify input and output features\n",
    "input_features = [(\"input\", datatypes.Array(*input_dim))]\n",
    "output_features = [(\"prediction\", datatypes.Array(*output_dim))]"
   ]
  },
  {
   "cell_type": "code",
   "execution_count": 36,
   "id": "c43d0a37",
   "metadata": {},
   "outputs": [
    {
     "data": {
      "text/plain": [
       "['conv2d_1',\n",
       " 'relu_1',\n",
       " 'pool2d_1',\n",
       " 'conv2d_2',\n",
       " 'relu_2',\n",
       " 'pool2d_2',\n",
       " 'conv2d_3',\n",
       " 'relu_3',\n",
       " 'flatten',\n",
       " 'dense1',\n",
       " 'relu_4',\n",
       " 'dense2',\n",
       " 'softmax']"
      ]
     },
     "execution_count": 36,
     "metadata": {},
     "output_type": "execute_result"
    }
   ],
   "source": [
    "builder = NeuralNetworkBuilder(input_features, output_features)\n",
    "\n",
    "W_conv2d_1 = rand(1,32,3,3)\n",
    "W_conv2d_2 = rand(32,64,3,3)\n",
    "W_conv2d_3 = rand(64,64,3,3)\n",
    "\n",
    "W_fc_1 = rand(576,300)\n",
    "W_fc_2 = rand(300,10)\n",
    "\n",
    "builder.add_convolution(name=\"conv2d_1\",\n",
    "                        kernel_channels=1,\n",
    "                        output_channels=32,\n",
    "                        height=3,\n",
    "                        width=3,\n",
    "                        stride_height=1,\n",
    "                        stride_width=1,\n",
    "                        border_mode='valid',\n",
    "                        groups=1,\n",
    "                        W=W_conv2d_1,\n",
    "                        b=None,\n",
    "                        has_bias=False,\n",
    "                        input_name=\"input\",\n",
    "                        output_name=\"conv2d_1_output\")\n",
    "\n",
    "builder.add_activation(name=\"relu_1\",\n",
    "                       non_linearity=\"RELU\",\n",
    "                       input_name=\"conv2d_1_output\",\n",
    "                       output_name=\"conv2d_1_relu\")\n",
    "\n",
    "builder.add_pooling(name=\"pool2d_1\",\n",
    "                    height=2,\n",
    "                    width=2,\n",
    "                    stride_height=2,\n",
    "                    stride_width=2,\n",
    "                    layer_type=\"MAX\",\n",
    "                    padding_type=\"VALID\",\n",
    "                    input_name=\"conv2d_1_relu\",\n",
    "                    output_name=\"pool2d_1_out\")\n",
    "\n",
    "builder.add_convolution(name=\"conv2d_2\",\n",
    "                        kernel_channels=32,\n",
    "                        output_channels=64,\n",
    "                        height=3,\n",
    "                        width=3,\n",
    "                        stride_height=1,\n",
    "                        stride_width=1,\n",
    "                        border_mode='valid',\n",
    "                        groups=1,\n",
    "                        W=W_conv2d_2,\n",
    "                        b=None,\n",
    "                        has_bias=False,\n",
    "                        input_name=\"pool2d_1_out\",`\n",
    "                        output_name=\"conv2d_2_output\")\n",
    "\n",
    "builder.add_activation(name=\"relu_2\",\n",
    "                       non_linearity=\"RELU\",\n",
    "                       input_name=\"conv2d_2_output\",\n",
    "                       output_name=\"conv2d_2_relu\")\n",
    "\n",
    "builder.add_pooling(name=\"pool2d_2\",\n",
    "                    height=2,\n",
    "                    width=2,\n",
    "                    stride_height=2,\n",
    "                    stride_width=2,\n",
    "                    layer_type=\"MAX\",\n",
    "                    padding_type=\"VALID\",\n",
    "                    input_name=\"conv2d_2_relu\",\n",
    "                    output_name=\"pool2d_2_out\")\n",
    "\n",
    "builder.add_convolution(name=\"conv2d_3\",\n",
    "                        kernel_channels=64,\n",
    "                        output_channels=64,\n",
    "                        height=3,\n",
    "                        width=3,\n",
    "                        stride_height=1,\n",
    "                        stride_width=1,\n",
    "                        border_mode='valid',\n",
    "                        groups=1,\n",
    "                        W=W_conv2d_3,\n",
    "                        b=None,\n",
    "                        has_bias=False,\n",
    "                        input_name=\"pool2d_2_out\",\n",
    "                        output_name=\"conv2d_3_output\")\n",
    "\n",
    "builder.add_activation(name=\"relu_3\",\n",
    "                       non_linearity=\"RELU\",\n",
    "                       input_name=\"conv2d_3_output\",\n",
    "                       output_name=\"conv2d_3_relu\")\n",
    "\n",
    "builder.add_flatten(name=\"flatten\",\n",
    "                    mode=0,\n",
    "                    input_name=\"conv2d_3_relu\",\n",
    "                    output_name=\"flatten_out\")\n",
    "\n",
    "builder.add_inner_product(name=\"dense1\",\n",
    "                          W=W_fc_1,\n",
    "                          b=None,\n",
    "                          has_bias=False,\n",
    "                          input_channels=576,\n",
    "                          output_channels=300,\n",
    "                          input_name=\"flatten_out\",\n",
    "                          output_name=\"dense1_out\")\n",
    "\n",
    "builder.add_activation(name=\"relu_4\",\n",
    "                       non_linearity=\"RELU\",\n",
    "                       input_name=\"dense1_out\",\n",
    "                       output_name=\"dense1_relu_out\")\n",
    "\n",
    "builder.add_inner_product(name=\"dense2\",\n",
    "                          W=W_fc_2,\n",
    "                          b=None,\n",
    "                          has_bias=False,\n",
    "                          input_channels=300,\n",
    "                          output_channels=10,\n",
    "                          input_name=\"dense1_relu_out\",\n",
    "                          output_name=\"dense2_out\")\n",
    "\n",
    "builder.add_softmax(name=\"softmax\",\n",
    "                    input_name=\"dense2_out\",\n",
    "                    output_name=\"prediction\")\n",
    "\n",
    "builder.layers"
   ]
  },
  {
   "cell_type": "code",
   "execution_count": 37,
   "id": "eb43e02a",
   "metadata": {},
   "outputs": [],
   "source": [
    "# only conv2d and inner product layers are updatable\n",
    "\n",
    "builder.make_updatable([\"conv2d_1\", \"conv2d_2\", \"conv2d_3\", \"dense1\", \"dense2\"])"
   ]
  },
  {
   "cell_type": "code",
   "execution_count": 38,
   "id": "2ce94b85",
   "metadata": {},
   "outputs": [
    {
     "name": "stdout",
     "output_type": "stream",
     "text": [
      "Now adding input prediction_true as target for categorical cross-entropy loss layer.\n"
     ]
    }
   ],
   "source": [
    "builder.set_categorical_cross_entropy_loss(name='lossLayer', input='prediction')"
   ]
  },
  {
   "cell_type": "code",
   "execution_count": 39,
   "id": "d9eb6dd2",
   "metadata": {},
   "outputs": [],
   "source": [
    "from coremltools.models.neural_network import SgdParams\n",
    "builder.set_sgd_optimizer(SgdParams(lr=0.01, batch=32))"
   ]
  },
  {
   "cell_type": "code",
   "execution_count": 40,
   "id": "173a59de",
   "metadata": {},
   "outputs": [],
   "source": [
    "builder.set_epochs(10)"
   ]
  },
  {
   "cell_type": "code",
   "execution_count": 41,
   "id": "fbfa36bc",
   "metadata": {},
   "outputs": [],
   "source": [
    "!rm -r cnn.mlpackage"
   ]
  },
  {
   "cell_type": "code",
   "execution_count": 42,
   "id": "9ac10a86",
   "metadata": {},
   "outputs": [],
   "source": [
    "save_spec(builder.spec, \"cnn.mlpackage\")"
   ]
  },
  {
   "cell_type": "markdown",
   "id": "86c70073",
   "metadata": {},
   "source": [
    "This cell below is used as a \"test\" script to verify the shapes of the output vectors from each operation."
   ]
  },
  {
   "cell_type": "code",
   "execution_count": 15,
   "id": "60166787",
   "metadata": {},
   "outputs": [],
   "source": [
    "# import torch\n",
    "\n",
    "# x = torch.randn(1, 1, 28, 28)\n",
    "# print(x.shape)\n",
    "\n",
    "# conv1 = torch.nn.Conv2d(in_channels=1, out_channels=32, kernel_size=3, padding=1)(x)\n",
    "# print(conv1.shape)\n",
    "\n",
    "# pool1 = torch.nn.MaxPool2d(kernel_size=2, stride=2)(conv1)\n",
    "# print(pool1.shape)\n",
    "\n",
    "# conv2 = torch.nn.Conv2d(in_channels=32, out_channels=64, kernel_size=3, padding=1)(pool1)\n",
    "# print(conv2.shape)\n",
    "\n",
    "# pool2 = torch.nn.MaxPool2d(kernel_size=2, stride=2)(conv2)\n",
    "# print(pool2.shape)\n",
    "\n",
    "# conv3 = torch.nn.Conv2d(in_channels=64, out_channels=64, kernel_size=3, padding=1)(pool2)\n",
    "# print(conv3.shape)\n",
    "\n",
    "# flatten = torch.nn.Flatten()(conv3)\n",
    "# print(flatten.shape)\n",
    "\n",
    "# fc = torch.nn.Linear(3136,500)(flatten)\n",
    "# print(fc.shape)\n",
    "\n",
    "# relu_fc = torch.nn.ReLU()(fc)\n",
    "# print(relu_fc.shape)\n",
    "\n",
    "# fc2 = torch.nn.Linear(500,10)(relu_fc)\n",
    "# print(fc2.shape)\n",
    "\n",
    "# result = torch.nn.Softmax(dim=0)(fc2)\n",
    "# result, result.shape"
   ]
  },
  {
   "cell_type": "code",
   "execution_count": null,
   "id": "beef883b",
   "metadata": {},
   "outputs": [],
   "source": []
  }
 ],
 "metadata": {
  "kernelspec": {
   "display_name": "Python 3 (ipykernel)",
   "language": "python",
   "name": "python3"
  },
  "language_info": {
   "codemirror_mode": {
    "name": "ipython",
    "version": 3
   },
   "file_extension": ".py",
   "mimetype": "text/x-python",
   "name": "python",
   "nbconvert_exporter": "python",
   "pygments_lexer": "ipython3",
   "version": "3.9.13"
  }
 },
 "nbformat": 4,
 "nbformat_minor": 5
}
