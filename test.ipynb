{
 "cells": [
  {
   "cell_type": "markdown",
   "id": "f0b83a4e",
   "metadata": {},
   "source": [
    "## Important note\n",
    "\n",
    "I started out with a CNN for the MNIST (handwritten digits) dataset just to get a basic example working. Once I make sure that part works, I can just change the parameters to match our use case.\n",
    "\n",
    "This notebook was an attempt to convert a Keras Sequential model (a CNN) into a Core ML model using their conversion API. However, creating the model in this manner does not result in a trainable model. The way you can see if a model is trainable is if you can see a \"TrainingInput\" class in the compiled model file in Xcode."
   ]
  },
  {
   "cell_type": "code",
   "execution_count": 1,
   "id": "df514ae3",
   "metadata": {
    "scrolled": true
   },
   "outputs": [
    {
     "name": "stderr",
     "output_type": "stream",
     "text": [
      "2023-11-27 14:52:41.327104: I tensorflow/core/platform/cpu_feature_guard.cc:193] This TensorFlow binary is optimized with oneAPI Deep Neural Network Library (oneDNN) to use the following CPU instructions in performance-critical operations:  AVX2 FMA\n",
      "To enable them in other operations, rebuild TensorFlow with the appropriate compiler flags.\n"
     ]
    }
   ],
   "source": [
    "import keras\n",
    "from keras import layers\n",
    "from keras import models, Sequential\n",
    "from keras.datasets import mnist\n",
    "from keras.utils import to_categorical"
   ]
  },
  {
   "cell_type": "code",
   "execution_count": 2,
   "id": "4ce21bea",
   "metadata": {},
   "outputs": [
    {
     "name": "stderr",
     "output_type": "stream",
     "text": [
      "2023-11-27 14:52:47.505257: I tensorflow/core/platform/cpu_feature_guard.cc:193] This TensorFlow binary is optimized with oneAPI Deep Neural Network Library (oneDNN) to use the following CPU instructions in performance-critical operations:  AVX2 FMA\n",
      "To enable them in other operations, rebuild TensorFlow with the appropriate compiler flags.\n"
     ]
    }
   ],
   "source": [
    "# This is our model. A handwritten digits predictor trained with the MNIST\n",
    "# handwritten digits dataset.\n",
    "model = Sequential()\n",
    "model.add(layers.Conv2D(32, (3, 3), activation='relu', input_shape=(28, 28, 1)))\n",
    "model.add(layers.MaxPooling2D((2, 2)))\n",
    "model.add(layers.Conv2D(64, (3, 3), activation='relu'))\n",
    "model.add(layers.MaxPooling2D(2, 2))\n",
    "model.add(layers.Conv2D(64, (3, 3), activation='relu'))\n",
    "model.add(layers.Flatten())\n",
    "model.add(layers.Dense(64, activation='relu'))\n",
    "model.add(layers.Dense(10, activation='softmax'))"
   ]
  },
  {
   "cell_type": "code",
   "execution_count": 3,
   "id": "3e7eee42",
   "metadata": {},
   "outputs": [
    {
     "name": "stdout",
     "output_type": "stream",
     "text": [
      "Model: \"sequential\"\n",
      "_________________________________________________________________\n",
      " Layer (type)                Output Shape              Param #   \n",
      "=================================================================\n",
      " conv2d (Conv2D)             (None, 26, 26, 32)        320       \n",
      "                                                                 \n",
      " max_pooling2d (MaxPooling2D  (None, 13, 13, 32)       0         \n",
      " )                                                               \n",
      "                                                                 \n",
      " conv2d_1 (Conv2D)           (None, 11, 11, 64)        18496     \n",
      "                                                                 \n",
      " max_pooling2d_1 (MaxPooling  (None, 5, 5, 64)         0         \n",
      " 2D)                                                             \n",
      "                                                                 \n",
      " conv2d_2 (Conv2D)           (None, 3, 3, 64)          36928     \n",
      "                                                                 \n",
      " flatten (Flatten)           (None, 576)               0         \n",
      "                                                                 \n",
      " dense (Dense)               (None, 64)                36928     \n",
      "                                                                 \n",
      " dense_1 (Dense)             (None, 10)                650       \n",
      "                                                                 \n",
      "=================================================================\n",
      "Total params: 93,322\n",
      "Trainable params: 93,322\n",
      "Non-trainable params: 0\n",
      "_________________________________________________________________\n",
      "None\n"
     ]
    }
   ],
   "source": [
    "print(model.summary())"
   ]
  },
  {
   "cell_type": "code",
   "execution_count": 4,
   "id": "9f19b43a",
   "metadata": {},
   "outputs": [],
   "source": [
    "# compile the model\n",
    "model.compile(optimizer='rmsprop',\n",
    "             loss='categorical_crossentropy',\n",
    "             metrics=['accuracy'])"
   ]
  },
  {
   "cell_type": "code",
   "execution_count": 5,
   "id": "5e63d518",
   "metadata": {},
   "outputs": [],
   "source": [
    "# The MNIST handwritten digits dataset is part of Keras. Let's get it.\n",
    "(train_images, train_labels), (test_images, test_labels) = mnist.load_data()\n",
    "\n",
    "# get the data ready to pass into our model\n",
    "train_images = train_images.reshape((60000, 28, 28, 1))\n",
    "train_images = train_images.astype('float32') / 255\n",
    "\n",
    "test_images = test_images.reshape((10000, 28, 28, 1))\n",
    "test_images = test_images.astype('float32') / 255\n",
    "\n",
    "train_labels = to_categorical(train_labels)\n",
    "test_labels = to_categorical(test_labels)"
   ]
  },
  {
   "cell_type": "code",
   "execution_count": 59,
   "id": "28966eef",
   "metadata": {},
   "outputs": [
    {
     "name": "stdout",
     "output_type": "stream",
     "text": [
      "Epoch 1/5\n",
      "938/938 [==============================] - 24s 25ms/step - loss: 0.1824 - accuracy: 0.9435\n",
      "Epoch 2/5\n",
      "938/938 [==============================] - 26s 28ms/step - loss: 0.0481 - accuracy: 0.9850\n",
      "Epoch 3/5\n",
      "938/938 [==============================] - 28s 29ms/step - loss: 0.0337 - accuracy: 0.9892\n",
      "Epoch 4/5\n",
      "938/938 [==============================] - 24s 26ms/step - loss: 0.0253 - accuracy: 0.9922\n",
      "Epoch 5/5\n",
      "938/938 [==============================] - 25s 26ms/step - loss: 0.0201 - accuracy: 0.9938\n"
     ]
    },
    {
     "data": {
      "text/plain": [
       "<keras.callbacks.History at 0x1631562e0>"
      ]
     },
     "execution_count": 59,
     "metadata": {},
     "output_type": "execute_result"
    }
   ],
   "source": [
    "# training time!\n",
    "model.fit(train_images, train_labels, epochs=5, batch_size=64)"
   ]
  },
  {
   "cell_type": "code",
   "execution_count": 60,
   "id": "b0cde653",
   "metadata": {},
   "outputs": [
    {
     "name": "stdout",
     "output_type": "stream",
     "text": [
      "313/313 [==============================] - 1s 4ms/step - loss: 0.0242 - accuracy: 0.9921\n",
      "Test accuracy: 0.9921000003814697\n"
     ]
    }
   ],
   "source": [
    "# let's see how good we are with the test set\n",
    "test_loss, test_acc = model.evaluate(test_images, test_labels)\n",
    "print('Test accuracy:', test_acc)"
   ]
  },
  {
   "cell_type": "code",
   "execution_count": 61,
   "id": "cad5bbf7",
   "metadata": {},
   "outputs": [
    {
     "name": "stdout",
     "output_type": "stream",
     "text": [
      "Saving model...\n",
      "Done!\n"
     ]
    }
   ],
   "source": [
    "# Let's save our model to disk in Keras's h5 format\n",
    "print('Saving model...')\n",
    "model.save('conv_mnist.h5')\n",
    "print('Done!')"
   ]
  },
  {
   "cell_type": "code",
   "execution_count": 79,
   "id": "10dcf7d9",
   "metadata": {
    "scrolled": true
   },
   "outputs": [
    {
     "ename": "ImportError",
     "evalue": "cannot import name 'keras' from 'coremltools.converters' (/Library/Frameworks/Python.framework/Versions/3.9/lib/python3.9/site-packages/coremltools/converters/__init__.py)",
     "output_type": "error",
     "traceback": [
      "\u001b[0;31m---------------------------------------------------------------------------\u001b[0m",
      "\u001b[0;31mImportError\u001b[0m                               Traceback (most recent call last)",
      "Cell \u001b[0;32mIn [79], line 1\u001b[0m\n\u001b[0;32m----> 1\u001b[0m \u001b[38;5;28;01mfrom\u001b[39;00m \u001b[38;5;21;01mcoremltools\u001b[39;00m\u001b[38;5;21;01m.\u001b[39;00m\u001b[38;5;21;01mconverters\u001b[39;00m \u001b[38;5;28;01mimport\u001b[39;00m keras \u001b[38;5;28;01mas\u001b[39;00m keras_converter\n\u001b[1;32m      3\u001b[0m class_labels \u001b[38;5;241m=\u001b[39m [\u001b[38;5;124m'\u001b[39m\u001b[38;5;124m0\u001b[39m\u001b[38;5;124m'\u001b[39m, \u001b[38;5;124m'\u001b[39m\u001b[38;5;124m1\u001b[39m\u001b[38;5;124m'\u001b[39m, \u001b[38;5;124m'\u001b[39m\u001b[38;5;124m2\u001b[39m\u001b[38;5;124m'\u001b[39m, \u001b[38;5;124m'\u001b[39m\u001b[38;5;124m3\u001b[39m\u001b[38;5;124m'\u001b[39m, \u001b[38;5;124m'\u001b[39m\u001b[38;5;124m4\u001b[39m\u001b[38;5;124m'\u001b[39m, \u001b[38;5;124m'\u001b[39m\u001b[38;5;124m5\u001b[39m\u001b[38;5;124m'\u001b[39m, \u001b[38;5;124m'\u001b[39m\u001b[38;5;124m6\u001b[39m\u001b[38;5;124m'\u001b[39m, \u001b[38;5;124m'\u001b[39m\u001b[38;5;124m7\u001b[39m\u001b[38;5;124m'\u001b[39m, \u001b[38;5;124m'\u001b[39m\u001b[38;5;124m8\u001b[39m\u001b[38;5;124m'\u001b[39m, \u001b[38;5;124m'\u001b[39m\u001b[38;5;124m9\u001b[39m\u001b[38;5;124m'\u001b[39m]\n\u001b[1;32m      5\u001b[0m mlmodel \u001b[38;5;241m=\u001b[39m keras_converter\u001b[38;5;241m.\u001b[39mconvert(keras_model, \n\u001b[1;32m      6\u001b[0m                                   input_names\u001b[38;5;241m=\u001b[39m[\u001b[38;5;124m'\u001b[39m\u001b[38;5;124mimage\u001b[39m\u001b[38;5;124m'\u001b[39m],\n\u001b[1;32m      7\u001b[0m                                   output_names\u001b[38;5;241m=\u001b[39m[\u001b[38;5;124m'\u001b[39m\u001b[38;5;124mdigitProbabilities\u001b[39m\u001b[38;5;124m'\u001b[39m],\n\u001b[1;32m      8\u001b[0m                                   class_labels\u001b[38;5;241m=\u001b[39mclass_labels,\n\u001b[1;32m      9\u001b[0m                                   predicted_feature_name\u001b[38;5;241m=\u001b[39m\u001b[38;5;124m'\u001b[39m\u001b[38;5;124mdigit\u001b[39m\u001b[38;5;124m'\u001b[39m)\n",
      "\u001b[0;31mImportError\u001b[0m: cannot import name 'keras' from 'coremltools.converters' (/Library/Frameworks/Python.framework/Versions/3.9/lib/python3.9/site-packages/coremltools/converters/__init__.py)"
     ]
    }
   ],
   "source": [
    "from coremltools.converters import keras as keras_converter\n",
    "\n",
    "class_labels = ['0', '1', '2', '3', '4', '5', '6', '7', '8', '9']\n",
    "\n",
    "mlmodel = keras_converter.convert(keras_model, \n",
    "                                  input_names=['image'],\n",
    "                                  output_names=['digitProbabilities'],\n",
    "                                  class_labels=class_labels,\n",
    "                                  predicted_feature_name='digit')\n",
    "\n",
    "mlmodel.save(mlmodel_url)"
   ]
  },
  {
   "cell_type": "code",
   "execution_count": 78,
   "id": "8f422edb",
   "metadata": {},
   "outputs": [
    {
     "name": "stderr",
     "output_type": "stream",
     "text": [
      "2023-11-26 23:32:55.408781: I tensorflow/core/grappler/devices.cc:75] Number of eligible GPUs (core count >= 8, compute capability >= 0.0): 0 (Note: TensorFlow was not compiled with CUDA or ROCm support)\n",
      "2023-11-26 23:32:55.457457: I tensorflow/core/grappler/devices.cc:75] Number of eligible GPUs (core count >= 8, compute capability >= 0.0): 0 (Note: TensorFlow was not compiled with CUDA or ROCm support)\n",
      "2023-11-26 23:32:55.502360: I tensorflow/core/grappler/devices.cc:75] Number of eligible GPUs (core count >= 8, compute capability >= 0.0): 0 (Note: TensorFlow was not compiled with CUDA or ROCm support)\n",
      "2023-11-26 23:32:55.543894: I tensorflow/core/grappler/devices.cc:75] Number of eligible GPUs (core count >= 8, compute capability >= 0.0): 0 (Note: TensorFlow was not compiled with CUDA or ROCm support)\n",
      "Running TensorFlow Graph Passes: 100%|███████████████████| 6/6 [00:00<00:00, 18.54 passes/s]\n",
      "Converting TF Frontend ==> MIL Ops: 100%|████████████████| 31/31 [00:00<00:00, 502.30 ops/s]\n",
      "Running MIL frontend_tensorflow2 pipeline: 100%|███████| 7/7 [00:00<00:00, 1408.43 passes/s]\n",
      "Running MIL default pipeline: 100%|███████████████████| 69/69 [00:00<00:00, 452.06 passes/s]\n",
      "Running MIL backend_neuralnetwork pipeline: 100%|██████| 9/9 [00:00<00:00, 1494.29 passes/s]\n",
      "Translating MIL ==> NeuralNetwork Ops: 100%|████████████| 54/54 [00:00<00:00, 3655.82 ops/s]\n"
     ]
    }
   ],
   "source": [
    "import coremltools as ct\n",
    "\n",
    "class_labels = ['0', '1', '2', '3', '4', '5', '6', '7', '8', '9']\n",
    "\n",
    "mlmodel = ct.convert(model,\n",
    "                     convert_to=\"neuralnetwork\")\n",
    "\n",
    "mlmodel.save(\"cnn.mlmodel\")"
   ]
  },
  {
   "cell_type": "code",
   "execution_count": 69,
   "id": "77841950",
   "metadata": {},
   "outputs": [
    {
     "name": "stdout",
     "output_type": "stream",
     "text": [
      "1 [0. 1. 0. 0. 0. 0. 0. 0. 0. 0.]\n"
     ]
    }
   ],
   "source": [
    "id = 5\n",
    "sample_input = test_images[id].reshape((1, 28, 28, 1))\n",
    "result = coreml_model.predict({'conv2d_input': sample_input})\n",
    "print(np.argmax(result[\"Identity\"]), test_labels[id])"
   ]
  },
  {
   "cell_type": "code",
   "execution_count": 70,
   "id": "9c7ed5e5",
   "metadata": {},
   "outputs": [],
   "source": [
    "coreml_model.author = 'Jfantab'\n",
    "coreml_model.license = 'BSD'\n",
    "coreml_model.short_description = 'Model to predict handwritten digits'\n",
    "\n",
    "# coreml_model.input_description['input'] = '28x28 grayscale image of digit to predict'\n",
    "# coreml_model.output_description['output'] = 'Digit ASCII value (prediction)'\n",
    "\n",
    "coreml_model.save('conv_mnist.mlpackage')"
   ]
  },
  {
   "cell_type": "code",
   "execution_count": 75,
   "id": "798f827c",
   "metadata": {},
   "outputs": [
    {
     "ename": "AttributeError",
     "evalue": "'NoneType' object has no attribute 'layers'",
     "output_type": "error",
     "traceback": [
      "\u001b[0;31m---------------------------------------------------------------------------\u001b[0m",
      "\u001b[0;31mAttributeError\u001b[0m                            Traceback (most recent call last)",
      "Cell \u001b[0;32mIn [75], line 3\u001b[0m\n\u001b[1;32m      1\u001b[0m \u001b[38;5;28;01mimport\u001b[39;00m \u001b[38;5;21;01mcoremltools\u001b[39;00m\n\u001b[1;32m      2\u001b[0m spec \u001b[38;5;241m=\u001b[39m coremltools\u001b[38;5;241m.\u001b[39mutils\u001b[38;5;241m.\u001b[39mload_spec(\u001b[38;5;124m'\u001b[39m\u001b[38;5;124mconv_mnist.mlpackage\u001b[39m\u001b[38;5;124m'\u001b[39m)\n\u001b[0;32m----> 3\u001b[0m builder \u001b[38;5;241m=\u001b[39m coremltools\u001b[38;5;241m.\u001b[39mmodels\u001b[38;5;241m.\u001b[39mneural_network\u001b[38;5;241m.\u001b[39mNeuralNetworkBuilder(spec\u001b[38;5;241m=\u001b[39mspec)\n\u001b[1;32m      4\u001b[0m builder\u001b[38;5;241m.\u001b[39minspect_layers(last\u001b[38;5;241m=\u001b[39m\u001b[38;5;241m3\u001b[39m)\n",
      "File \u001b[0;32m/Library/Frameworks/Python.framework/Versions/3.9/lib/python3.9/site-packages/coremltools/models/neural_network/builder.py:372\u001b[0m, in \u001b[0;36mNeuralNetworkBuilder.__init__\u001b[0;34m(self, input_features, output_features, mode, spec, nn_spec, disable_rank5_shape_mapping, training_features, use_float_arraytype)\u001b[0m\n\u001b[1;32m    370\u001b[0m \u001b[38;5;28;01mif\u001b[39;00m \u001b[38;5;28mself\u001b[39m\u001b[38;5;241m.\u001b[39mnn_spec \u001b[38;5;129;01mis\u001b[39;00m \u001b[38;5;28;01mNone\u001b[39;00m:\n\u001b[1;32m    371\u001b[0m     \u001b[38;5;28mself\u001b[39m\u001b[38;5;241m.\u001b[39mnn_spec \u001b[38;5;241m=\u001b[39m _get_nn_spec(\u001b[38;5;28mself\u001b[39m\u001b[38;5;241m.\u001b[39mspec)\n\u001b[0;32m--> 372\u001b[0m     \u001b[38;5;28;01mfor\u001b[39;00m layer_spec \u001b[38;5;129;01min\u001b[39;00m \u001b[38;5;28;43mself\u001b[39;49m\u001b[38;5;241;43m.\u001b[39;49m\u001b[43mnn_spec\u001b[49m\u001b[38;5;241;43m.\u001b[39;49m\u001b[43mlayers\u001b[49m:\n\u001b[1;32m    373\u001b[0m         \u001b[38;5;28mself\u001b[39m\u001b[38;5;241m.\u001b[39mlayers\u001b[38;5;241m.\u001b[39mappend(layer_spec\u001b[38;5;241m.\u001b[39mname)\n\u001b[1;32m    374\u001b[0m         \u001b[38;5;28mself\u001b[39m\u001b[38;5;241m.\u001b[39mlayer_specs[layer_spec\u001b[38;5;241m.\u001b[39mname] \u001b[38;5;241m=\u001b[39m layer_spec\n",
      "\u001b[0;31mAttributeError\u001b[0m: 'NoneType' object has no attribute 'layers'"
     ]
    }
   ],
   "source": [
    "import coremltools\n",
    "spec = coremltools.utils.load_spec('conv_mnist.mlpackage')\n",
    "builder = coremltools.models.neural_network.NeuralNetworkBuilder(spec=spec)\n",
    "builder.inspect_layers(last=3)"
   ]
  },
  {
   "cell_type": "code",
   "execution_count": null,
   "id": "85855dbc",
   "metadata": {},
   "outputs": [],
   "source": []
  }
 ],
 "metadata": {
  "kernelspec": {
   "display_name": "Python 3 (ipykernel)",
   "language": "python",
   "name": "python3"
  },
  "language_info": {
   "codemirror_mode": {
    "name": "ipython",
    "version": 3
   },
   "file_extension": ".py",
   "mimetype": "text/x-python",
   "name": "python",
   "nbconvert_exporter": "python",
   "pygments_lexer": "ipython3",
   "version": "3.9.13"
  }
 },
 "nbformat": 4,
 "nbformat_minor": 5
}
